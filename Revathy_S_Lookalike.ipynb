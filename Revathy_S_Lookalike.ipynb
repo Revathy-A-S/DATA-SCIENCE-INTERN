{
  "nbformat": 4,
  "nbformat_minor": 0,
  "metadata": {
    "colab": {
      "provenance": []
    },
    "kernelspec": {
      "name": "python3",
      "display_name": "Python 3"
    },
    "language_info": {
      "name": "python"
    }
  },
  "cells": [
    {
      "cell_type": "code",
      "source": [
        "#TASK2--------"
      ],
      "metadata": {
        "id": "rt4iUedyRM5J"
      },
      "execution_count": null,
      "outputs": []
    },
    {
      "cell_type": "code",
      "source": [
        "import pandas as pd\n",
        "from sklearn.preprocessing import StandardScaler\n",
        "from sklearn.metrics.pairwise import cosine_similarity\n",
        "\n",
        "# Load datasets\n",
        "customers_df = pd.read_csv(\"Customers.csv\")\n",
        "products_df = pd.read_csv(\"Products.csv\")\n",
        "transactions_df = pd.read_csv(\"Transactions.csv\")\n",
        "\n",
        "# Preprocess and merge data\n",
        "# Merge transactions with products to include product details\n",
        "transactions_merged = pd.merge(transactions_df, products_df, on=\"ProductID\", how=\"left\")\n",
        "\n",
        "# Merge transactions with customers to include customer details\n",
        "full_data = pd.merge(transactions_merged, customers_df, on=\"CustomerID\", how=\"left\")\n",
        "\n",
        "# Aggregate data to create a customer profile\n",
        "customer_profile = full_data.groupby(\"CustomerID\").agg({\n",
        "    \"TotalValue\": \"sum\",  # Total spending\n",
        "    \"ProductID\": \"nunique\",  # Number of unique products purchased\n",
        "    \"Category\": lambda x: x.mode()[0],  # Most purchased category\n",
        "    \"Region\": lambda x: x.mode()[0],  # Most frequent region\n",
        "}).reset_index()\n",
        "\n",
        "# Encode categorical variables (Category and Region)\n",
        "customer_profile = pd.get_dummies(customer_profile, columns=[\"Category\", \"Region\"], drop_first=True)\n",
        "\n",
        "# Scale numerical features\n",
        "scaler = StandardScaler()\n",
        "scaled_features = scaler.fit_transform(customer_profile.drop(\"CustomerID\", axis=1))\n",
        "\n",
        "# Compute similarity matrix using cosine similarity\n",
        "similarity_matrix = cosine_similarity(scaled_features)\n",
        "\n",
        "# Create a function to get top 3 lookalikes\n",
        "def get_top_lookalikes(customer_id, similarity_matrix, customer_ids, top_n=3):\n",
        "    customer_idx = customer_ids.index(customer_id)\n",
        "    similarities = list(enumerate(similarity_matrix[customer_idx]))\n",
        "    similarities = sorted(similarities, key=lambda x: x[1], reverse=True)\n",
        "    top_similar_customers = [\n",
        "        (customer_ids[idx], round(score, 3)) for idx, score in similarities[1:top_n+1]  # Exclude self\n",
        "    ]\n",
        "    return top_similar_customers\n",
        "\n",
        "# Generate lookalikes for customers C0001 to C0020\n",
        "customer_ids = list(customer_profile[\"CustomerID\"])\n",
        "lookalike_map = {}\n",
        "for customer_id in customer_ids[:20]:\n",
        "    lookalike_map[customer_id] = get_top_lookalikes(customer_id, similarity_matrix, customer_ids)\n",
        "\n",
        "# Convert the lookalike map to a DataFrame for output\n",
        "lookalike_df = pd.DataFrame({\n",
        "    \"CustomerID\": lookalike_map.keys(),\n",
        "    \"Lookalikes\": [str(val) for val in lookalike_map.values()]\n",
        "})\n",
        "\n",
        "# Save the Lookalike.csv\n",
        "lookalike_df.to_csv(\"Lookalike.csv\", index=False)\n",
        "\n",
        "# --- Sample Output ---\n",
        "print(\"Sample Lookalike Recommendations:\")\n",
        "print(lookalike_df.head())\n"
      ],
      "metadata": {
        "colab": {
          "base_uri": "https://localhost:8080/"
        },
        "id": "StiTUwNTRM8E",
        "outputId": "46df6fec-b108-46f1-e1be-1c1c4aff1165"
      },
      "execution_count": null,
      "outputs": [
        {
          "output_type": "stream",
          "name": "stdout",
          "text": [
            "Sample Lookalike Recommendations:\n",
            "  CustomerID                                         Lookalikes\n",
            "0      C0001  [('C0091', 0.999), ('C0190', 0.997), ('C0048',...\n",
            "1      C0002  [('C0088', 0.979), ('C0134', 0.964), ('C0106',...\n",
            "2      C0003  [('C0031', 0.991), ('C0052', 0.986), ('C0076',...\n",
            "3      C0004  [('C0155', 0.987), ('C0087', 0.955), ('C0153',...\n",
            "4      C0005  [('C0186', 0.999), ('C0007', 0.993), ('C0140',...\n"
          ]
        }
      ]
    }
  ]
}